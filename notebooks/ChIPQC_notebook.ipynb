{
 "cells": [
  {
   "cell_type": "markdown",
   "id": "250fddc6",
   "metadata": {},
   "source": [
    "# Introduction\n",
    "In this notebook we generate plots to evaluate our Input and ChIP samples using output from ChIPQC v1.26.0"
   ]
  },
  {
   "cell_type": "markdown",
   "id": "85a009db",
   "metadata": {},
   "source": [
    "# Set Environment\n",
    "Import the libaries need to handle html formats and data tables"
   ]
  },
  {
   "cell_type": "code",
   "execution_count": 1,
   "id": "6532484e",
   "metadata": {
    "scrolled": true
   },
   "outputs": [],
   "source": [
    "from bs4 import BeautifulSoup # used to parse HTML\n",
    "import pandas as pd # used to handle dataframes/tables\n",
    "# used to make plots\n",
    "import seaborn as sns \n",
    "import matplotlib.pyplot as plt\n",
    "import matplotlib.ticker as ticker\n",
    "import numpy as np\n",
    "\n",
    "\n",
    "# categorical ordered type\n",
    "from pandas.api.types import CategoricalDtype\n",
    "\n",
    "# stats libary\n",
    "from scipy import stats\n",
    "from scipy.stats import mannwhitneyu"
   ]
  },
  {
   "cell_type": "markdown",
   "id": "0a42fe43",
   "metadata": {},
   "source": [
    "the code below is used to parse tables in html"
   ]
  },
  {
   "cell_type": "code",
   "execution_count": 2,
   "id": "12150310",
   "metadata": {},
   "outputs": [],
   "source": [
    "class HTMLTableParser:\n",
    "       \n",
    "        def parse_url(self, url):\n",
    "            soup = BeautifulSoup(url, 'lxml')\n",
    "            return [(table['id'],self.parse_html_table(table))\\\n",
    "                    for table in soup.find_all('table')]  \n",
    "    \n",
    "        def parse_html_table(self, table):\n",
    "            n_columns = 0\n",
    "            n_rows=0\n",
    "            column_names = []\n",
    "    \n",
    "            # Find number of rows and columns\n",
    "            # we also find the column titles if we can\n",
    "            for row in table.find_all('tr'):\n",
    "                \n",
    "                # Determine the number of rows in the table\n",
    "                td_tags = row.find_all('td')\n",
    "                if len(td_tags) > 0:\n",
    "                    n_rows+=1\n",
    "                    if n_columns == 0:\n",
    "                        # Set the number of columns for our table\n",
    "                        n_columns = len(td_tags)\n",
    "                        \n",
    "                # Handle column names if we find them\n",
    "                th_tags = row.find_all('th') \n",
    "                if len(th_tags) > 0 and len(column_names) == 0:\n",
    "                    for th in th_tags:\n",
    "                        column_names.append(th.get_text().strip())\n",
    "    \n",
    "            # Safeguard on Column Titles\n",
    "            if len(column_names) > 0 and len(column_names) != n_columns:\n",
    "                raise Exception(\"Column titles do not match the number of columns\")\n",
    "    \n",
    "            columns = column_names if len(column_names) > 0 else range(0,n_columns)\n",
    "            df = pd.DataFrame(columns = columns,\n",
    "                              index= range(0,n_rows))\n",
    "            row_marker = 0\n",
    "            for row in table.find_all('tr'):\n",
    "                column_marker = 0\n",
    "                columns = row.find_all('td')\n",
    "                for column in columns:\n",
    "                    df.iat[row_marker,column_marker] = column.get_text().strip()\n",
    "                    column_marker += 1\n",
    "                if len(columns) > 0:\n",
    "                    row_marker += 1\n",
    "                    \n",
    "            # Convert to float if possible\n",
    "            for col in df:\n",
    "                try:\n",
    "                    df[col] = df[col].astype(float)\n",
    "                except ValueError:\n",
    "                    pass\n",
    "            \n",
    "            return df"
   ]
  },
  {
   "cell_type": "markdown",
   "id": "63c5ae93",
   "metadata": {},
   "source": [
    "hard-code the location of the ChIPQC results within the Github repo"
   ]
  },
  {
   "cell_type": "code",
   "execution_count": 3,
   "id": "a9a2c3eb",
   "metadata": {},
   "outputs": [],
   "source": [
    "indir=\"../data/ChIPQCreport\""
   ]
  },
  {
   "cell_type": "markdown",
   "id": "b978de6c",
   "metadata": {},
   "source": [
    "# Summary Tables"
   ]
  },
  {
   "cell_type": "markdown",
   "id": "e1fe0696",
   "metadata": {},
   "source": [
    "## Input-Seq (20 Random Inputs)"
   ]
  },
  {
   "cell_type": "code",
   "execution_count": 4,
   "id": "a131ad14",
   "metadata": {},
   "outputs": [],
   "source": [
    "input_names=[\"noMask\",\"GS\",\"BL\"]\n",
    "input_dir=[\"20inputs_noMask\",\n",
    "              \"20inputs_gsMask\",\n",
    "              \"20inputs_blMask\"]\n",
    "input_summary_df=None\n",
    "for i in range(0,len(input_names)):\n",
    "    iname = input_names[i]\n",
    "    ichipqc = (\"%s/%s/ChIPQC.html\" % (indir,input_dir[i]))\n",
    "    hp = HTMLTableParser()\n",
    "    with open(ichipqc, 'r') as f:\n",
    "\n",
    "        contents = f.read()\n",
    "\n",
    "        soup = BeautifulSoup(contents, \"html.parser\")\n",
    "\n",
    "        i_summary_table = soup.find_all('table')[0]\n",
    "        i_summary_df = hp.parse_html_table(i_summary_table)\n",
    "        i_summary_df[\"mask\"]=iname\n",
    "        if i == 0:\n",
    "            input_summary_df = i_summary_df.copy()\n",
    "        else:\n",
    "            input_summary_df = input_summary_df.append(\n",
    "                i_summary_df, ignore_index=True)"
   ]
  },
  {
   "cell_type": "markdown",
   "id": "7f695826",
   "metadata": {},
   "source": [
    "### SSD boxplot"
   ]
  },
  {
   "cell_type": "code",
   "execution_count": 5,
   "id": "e6f8e058",
   "metadata": {},
   "outputs": [
    {
     "name": "stderr",
     "output_type": "stream",
     "text": [
      "/home/sklasfeld/.local/lib/python3.8/site-packages/pandas/core/arrays/categorical.py:2630: FutureWarning: The `inplace` parameter in pandas.Categorical.remove_unused_categories is deprecated and will be removed in a future version.\n",
      "  res = method(*args, **kwargs)\n"
     ]
    },
    {
     "data": {
      "image/png": "[encoded data removed]",
      "text/plain": [
       "<Figure size 432x288 with 1 Axes>"
      ]
     },
     "metadata": {
      "needs_background": "light"
     },
     "output_type": "display_data"
    }
   ],
   "source": [
    "# change mask labels\n",
    "input_summary_df = (\n",
    "    input_summary_df.replace(\n",
    "    [\"GS\",\"noMask\",\"BL\"],[\"Greenscreen\",\"no Mask\",\"Blacklist\"]))\n",
    "\n",
    "\n",
    "mask_cat_type = CategoricalDtype(categories=[\"no Mask\", \"Greenscreen\",\"Blacklist\"], ordered=True)\n",
    "input_summary_df[\"mask\"] = input_summary_df[\"mask\"].astype(mask_cat_type)\n",
    "input_summary_df[\"mask\"].cat.remove_unused_categories(inplace=True)\n",
    "\n",
    "fig,(ax1) = plt.subplots(1)\n",
    "\n",
    "\n",
    "font = {'size'   : 15}\n",
    "\n",
    "plt.rc('font', **font)\n",
    "\n",
    "# generate boxplot\n",
    "box_plot = sns.boxplot(x=\"mask\", y=\"SSD\", \n",
    "                 palette=sns.color_palette([\"blue\",\"green\",\"black\"]),\n",
    "                 data=input_summary_df, ax=ax1)\n",
    "# use swarmplot() to show the data points on top of the box plots\n",
    "sns.swarmplot(x=\"mask\", y=\"SSD\", data=input_summary_df, \n",
    "              palette=sns.color_palette([\"blue\",\"green\",\"black\"]),\n",
    "             ax=ax1, alpha=0.3)\n",
    "# label each integer on the y-axis\n",
    "ax1.yaxis.set_major_locator(ticker.MultipleLocator(1))\n",
    "ax1.yaxis.set_major_formatter(ticker.ScalarFormatter())\n",
    "# set title and x label\n",
    "ax1.set_title('Signal inequality in Input-seq',fontsize=22)\n",
    "ax1.set_xlabel('Artificial Signal Mask',fontsize=20)\n",
    "ax1.set_ylabel('SSD',fontsize=20)\n",
    "ax1.tick_params(labelsize=16)\n",
    "\n",
    "\n",
    "for i,artist in enumerate(ax1.artists):\n",
    "    # Set the linecolor on the artist to the facecolor, and set the facecolor to None\n",
    "    col = artist.get_facecolor()\n",
    "    artist.set_edgecolor(col)\n",
    "    artist.set_facecolor('None')\n",
    "\n",
    "    # Each box has 6 associated Line2D objects (to make the whiskers, fliers, etc.)\n",
    "    # Loop over them here, and use the same colour as above\n",
    "    for j in range(i*6,i*6+6):\n",
    "        line = ax1.lines[j]\n",
    "        line.set_color(col)\n",
    "        line.set_mfc(col)\n",
    "        line.set_mec(col)\n",
    "        \n",
    "medians = input_summary_df.groupby(['mask'])['SSD'].median()\n",
    "vertical_offset = input_summary_df['SSD'].median() * 0.01 # offset from median for display\n",
    "\n",
    "for xtick in box_plot.get_xticks():\n",
    "    box_plot.text(xtick,medians[xtick] + vertical_offset,np.round(medians[xtick],2), \n",
    "            horizontalalignment='center',size='large',color='k',weight='semibold')"
   ]
  },
  {
   "cell_type": "markdown",
   "id": "30b87c92",
   "metadata": {},
   "source": [
    "## Statistical Testing\n",
    "We are interested in comparing whether SSD valus are statisically equal before and after masking artificial signals with greenscreen or blacklist. First let us plot the distributions of the three groups."
   ]
  },
  {
   "cell_type": "code",
   "execution_count": 6,
   "id": "b3cfce34",
   "metadata": {},
   "outputs": [
    {
     "name": "stderr",
     "output_type": "stream",
     "text": [
      "/home/sklasfeld/anaconda3/lib/python3.8/site-packages/seaborn/distributions.py:2164: UserWarning: `displot` is a figure-level function and does not accept the ax= paramter. You may wish to try histplot.\n",
      "  warnings.warn(msg, UserWarning)\n"
     ]
    },
    {
     "data": {
      "image/png": "[encoded data removed]",
      "text/plain": [
       "<Figure size 1229.75x360 with 3 Axes>"
      ]
     },
     "metadata": {
      "needs_background": "light"
     },
     "output_type": "display_data"
    }
   ],
   "source": [
    "sns.displot(col=\"mask\", x=\"SSD\", hue=\"mask\", ax=ax1, \n",
    "                 palette=sns.color_palette([\"blue\",\"green\",\"black\"]),\n",
    "                 data=input_summary_df, bins=20)\n",
    "plt.show()"
   ]
  },
  {
   "cell_type": "markdown",
   "id": "b7c0d754",
   "metadata": {},
   "source": [
    "It is hard to tell whether they both have normal distributions so let us get more information about the mean and standard deviation."
   ]
  },
  {
   "cell_type": "code",
   "execution_count": 7,
   "id": "76bdda01",
   "metadata": {},
   "outputs": [
    {
     "data": {
      "text/plain": [
       "count    20.000000\n",
       "mean      3.845000\n",
       "std       2.092461\n",
       "min       1.400000\n",
       "25%       2.775000\n",
       "50%       3.150000\n",
       "75%       4.250000\n",
       "max       9.000000\n",
       "Name: SSD, dtype: float64"
      ]
     },
     "execution_count": 7,
     "metadata": {},
     "output_type": "execute_result"
    }
   ],
   "source": [
    "noMask_ssd_series = input_summary_df.loc[input_summary_df[\"mask\"]==\"no Mask\",\"SSD\"]\n",
    "noMask_ssd_series.describe()"
   ]
  },
  {
   "cell_type": "code",
   "execution_count": 8,
   "id": "7ea1fd2b",
   "metadata": {},
   "outputs": [
    {
     "data": {
      "text/plain": [
       "count    20.000000\n",
       "mean      1.186000\n",
       "std       0.576015\n",
       "min       0.740000\n",
       "25%       0.840000\n",
       "50%       0.975000\n",
       "75%       1.250000\n",
       "max       2.800000\n",
       "Name: SSD, dtype: float64"
      ]
     },
     "execution_count": 8,
     "metadata": {},
     "output_type": "execute_result"
    }
   ],
   "source": [
    "gs_ssd_series = input_summary_df.loc[input_summary_df[\"mask\"]==\"Greenscreen\",\"SSD\"]\n",
    "gs_ssd_series.describe()"
   ]
  },
  {
   "cell_type": "code",
   "execution_count": 9,
   "id": "0380235c",
   "metadata": {},
   "outputs": [
    {
     "data": {
      "text/plain": [
       "count    20.000000\n",
       "mean      1.189500\n",
       "std       0.577431\n",
       "min       0.750000\n",
       "25%       0.850000\n",
       "50%       0.980000\n",
       "75%       1.250000\n",
       "max       2.800000\n",
       "Name: SSD, dtype: float64"
      ]
     },
     "execution_count": 9,
     "metadata": {},
     "output_type": "execute_result"
    }
   ],
   "source": [
    "bl_ssd_series = input_summary_df.loc[input_summary_df[\"mask\"]==\"Blacklist\",\"SSD\"]\n",
    "bl_ssd_series.describe()"
   ]
  },
  {
   "cell_type": "markdown",
   "id": "a9f599e0",
   "metadata": {},
   "source": [
    "Observations\n",
    "* The variance in the no mask group is different from the variance in mask groups\n",
    "* The medians show that the masked data is skewed to the left and not normally distributed"
   ]
  },
  {
   "cell_type": "code",
   "execution_count": 10,
   "id": "d80aa586",
   "metadata": {},
   "outputs": [
    {
     "name": "stdout",
     "output_type": "stream",
     "text": [
      "Statistics=12.000, p=0.000\n",
      "Different distribution (reject H0)\n"
     ]
    }
   ],
   "source": [
    "stat, p = mannwhitneyu(gs_ssd_series, \n",
    "                     noMask_ssd_series,\n",
    "                    alternative=\"less\",\n",
    "                    use_continuity=True)\n",
    "print('Statistics=%.3f, p=%.3f' % (stat, p))\n",
    "# interpret\n",
    "alpha = 0.05\n",
    "if p > alpha:\n",
    "\tprint('Same distribution (fail to reject H0)')\n",
    "else:\n",
    "\tprint('Different distribution (reject H0)')"
   ]
  },
  {
   "cell_type": "code",
   "execution_count": 11,
   "id": "7000462a",
   "metadata": {},
   "outputs": [
    {
     "name": "stdout",
     "output_type": "stream",
     "text": [
      "Statistics=12.500, p=0.000\n",
      "Different distribution (reject H0)\n"
     ]
    }
   ],
   "source": [
    "stat, p = mannwhitneyu(bl_ssd_series, \n",
    "                     noMask_ssd_series,\n",
    "                    alternative=\"less\",\n",
    "                    use_continuity=True)\n",
    "print('Statistics=%.3f, p=%.3f' % (stat, p))\n",
    "# interpret\n",
    "alpha = 0.05\n",
    "if p > alpha:\n",
    "\tprint('Same distribution (fail to reject H0)')\n",
    "else:\n",
    "\tprint('Different distribution (reject H0)')"
   ]
  },
  {
   "cell_type": "markdown",
   "id": "52913bb4",
   "metadata": {},
   "source": [
    "## ChIP-Seq (LFY, FD, and TFL1)"
   ]
  },
  {
   "cell_type": "code",
   "execution_count": 12,
   "id": "1a4a0b2a",
   "metadata": {},
   "outputs": [],
   "source": [
    "mask_list=[\"noMask\",\"gsMask\",\"blMask\"]\n",
    "mask_dic={\"noMask\":\"noMask\", \n",
    "          \"gsMask\":\"GS\",\n",
    "          \"blMask\":\"BL\"}\n",
    "dup_list=[\"wiDups\"]\n",
    "macs2_controls_list=[\"bestControlsV5\"]\n",
    "\n",
    "all_chip_summary_df=None\n",
    "i=0\n",
    "for mask in mask_list:\n",
    "    for dup in dup_list:\n",
    "        for mcontrol in macs2_controls_list:\n",
    "            subdir=(\"chip_%s_%s_%s_extFragSize_qval10\" % (mask, dup, mcontrol))\n",
    "            chipqc_html = (\"%s/%s/ChIPQC.html\" % (indir,subdir))\n",
    "            hp = HTMLTableParser()\n",
    "            with open(chipqc_html, 'r') as f:\n",
    "                contents = f.read()\n",
    "                soup = BeautifulSoup(contents, \"html.parser\")\n",
    "\n",
    "                chip_summary_table = soup.find_all('table')[0]\n",
    "                chip_summary_df = hp.parse_html_table(chip_summary_table)\n",
    "                chip_summary_df[\"mask\"]=mask_dic[mask]\n",
    "                chip_summary_df[\"dup\"]=dup\n",
    "                chip_summary_df[\"macs2_control\"]=mcontrol\n",
    "                if i == 0:\n",
    "                    all_chip_summary_df = chip_summary_df.copy()\n",
    "                else:\n",
    "                    all_chip_summary_df = all_chip_summary_df.append(\n",
    "                        chip_summary_df, ignore_index=True)\n",
    "            i+=1"
   ]
  },
  {
   "cell_type": "code",
   "execution_count": 13,
   "id": "c4939b83",
   "metadata": {},
   "outputs": [],
   "source": [
    "TFL1_A_W_chipSummary_df = (\n",
    "    all_chip_summary_df.loc[((all_chip_summary_df[\"ID\"].str.contains(\"TFL1_A_W\")) &\n",
    "                         (all_chip_summary_df[\"macs2_control\"]==\"bestControlsV5\")),:])"
   ]
  },
  {
   "cell_type": "code",
   "execution_count": 14,
   "id": "370d3a11",
   "metadata": {},
   "outputs": [
    {
     "data": {
      "text/plain": [
       "Text(0, 0.5, 'RSC')"
      ]
     },
     "execution_count": 14,
     "metadata": {},
     "output_type": "execute_result"
    },
    {
     "data": {
      "image/png": "[encoded data removed]",
      "text/plain": [
       "<Figure size 432x288 with 1 Axes>"
      ]
     },
     "metadata": {},
     "output_type": "display_data"
    }
   ],
   "source": [
    "sns.set(font_scale=1.2)\n",
    "sns.set_theme(style=\"whitegrid\")\n",
    "ax = sns.barplot(x=\"ID\", y=\"RelCC\", \n",
    "                 hue=\"mask\",\n",
    "                 data=TFL1_A_W_chipSummary_df,\n",
    "                 palette=sns.color_palette([\"blue\",\"green\",\"black\"]))\n",
    "ax.set_ylabel(\"RSC\")\n",
    "#plt.legend(bbox_to_anchor=(1.05, 1), loc=2, borderaxespad=0.)"
   ]
  },
  {
   "cell_type": "code",
   "execution_count": 15,
   "id": "06ecfb6a",
   "metadata": {},
   "outputs": [],
   "source": [
    "if 1==0:\n",
    "    sns.set(font_scale=1.2)\n",
    "    g = sns.FacetGrid(TFL1_A_W_chipSummary_df, col=\"ID\")\n",
    "    g.map_dataframe(sns.barplot, x=\"ID\", y=\"RelCC\", \n",
    "                    hue=\"mask\",\n",
    "                    palette=sns.color_palette([\"blue\",\"green\",\"black\"]))\n",
    "    g.set_axis_labels(\"\", \"RSC\")\n",
    "    g.set_titles(col_template=\"{col_name}\")\n",
    "    g.add_legend()"
   ]
  },
  {
   "cell_type": "code",
   "execution_count": 16,
   "id": "eaeab1fc",
   "metadata": {},
   "outputs": [
    {
     "data": {
      "image/png": "[encoded data removed]",
      "text/plain": [
       "<Figure size 432x288 with 1 Axes>"
      ]
     },
     "metadata": {},
     "output_type": "display_data"
    }
   ],
   "source": [
    "sns.set(font_scale=1.2)\n",
    "sns.set_theme(style=\"whitegrid\")\n",
    "ax = sns.barplot(x=\"ID\", y=\"SSD\", \n",
    "                 hue=\"mask\",\n",
    "                 data=TFL1_A_W_chipSummary_df,\n",
    "                 palette=sns.color_palette([\"blue\",\"green\",\"black\"]))\n",
    "#plt.legend(bbox_to_anchor=(1.05, 1), loc=2, borderaxespad=0.)"
   ]
  }
 ],
 "metadata": {
  "kernelspec": {
   "display_name": "Python 3",
   "language": "python",
   "name": "python3"
  },
  "language_info": {
   "codemirror_mode": {
    "name": "ipython",
    "version": 3
   },
   "file_extension": ".py",
   "mimetype": "text/x-python",
   "name": "python",
   "nbconvert_exporter": "python",
   "pygments_lexer": "ipython3",
   "version": "3.8.10"
  }
 },
 "nbformat": 4,
 "nbformat_minor": 5
}
