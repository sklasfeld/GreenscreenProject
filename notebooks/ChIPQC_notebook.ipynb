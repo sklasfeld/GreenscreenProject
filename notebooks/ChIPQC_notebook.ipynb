{
 "cells": [
  {
   "cell_type": "markdown",
   "id": "250fddc6",
   "metadata": {},
   "source": [
    "# Introduction\n",
    "In this notebook we generate plots to evaluate our Input and ChIP samples using output from ChIPQC v1.26.0"
   ]
  },
  {
   "cell_type": "markdown",
   "id": "85a009db",
   "metadata": {},
   "source": [
    "# Set Environment\n",
    "Import the libaries need to handle html formats and data tables"
   ]
  },
  {
   "cell_type": "code",
   "execution_count": 1,
   "id": "6532484e",
   "metadata": {
    "scrolled": true
   },
   "outputs": [],
   "source": [
    "from bs4 import BeautifulSoup # used to parse HTML\n",
    "import pandas as pd # used to handle dataframes/tables\n",
    "# used to make plots\n",
    "import seaborn as sns \n",
    "import matplotlib.pyplot as plt\n",
    "import matplotlib.ticker as ticker"
   ]
  },
  {
   "cell_type": "markdown",
   "id": "0a42fe43",
   "metadata": {},
   "source": [
    "the code below is used to parse tables in html"
   ]
  },
  {
   "cell_type": "code",
   "execution_count": 2,
   "id": "12150310",
   "metadata": {},
   "outputs": [],
   "source": [
    "class HTMLTableParser:\n",
    "       \n",
    "        def parse_url(self, url):\n",
    "            soup = BeautifulSoup(url, 'lxml')\n",
    "            return [(table['id'],self.parse_html_table(table))\\\n",
    "                    for table in soup.find_all('table')]  \n",
    "    \n",
    "        def parse_html_table(self, table):\n",
    "            n_columns = 0\n",
    "            n_rows=0\n",
    "            column_names = []\n",
    "    \n",
    "            # Find number of rows and columns\n",
    "            # we also find the column titles if we can\n",
    "            for row in table.find_all('tr'):\n",
    "                \n",
    "                # Determine the number of rows in the table\n",
    "                td_tags = row.find_all('td')\n",
    "                if len(td_tags) > 0:\n",
    "                    n_rows+=1\n",
    "                    if n_columns == 0:\n",
    "                        # Set the number of columns for our table\n",
    "                        n_columns = len(td_tags)\n",
    "                        \n",
    "                # Handle column names if we find them\n",
    "                th_tags = row.find_all('th') \n",
    "                if len(th_tags) > 0 and len(column_names) == 0:\n",
    "                    for th in th_tags:\n",
    "                        column_names.append(th.get_text().strip())\n",
    "    \n",
    "            # Safeguard on Column Titles\n",
    "            if len(column_names) > 0 and len(column_names) != n_columns:\n",
    "                raise Exception(\"Column titles do not match the number of columns\")\n",
    "    \n",
    "            columns = column_names if len(column_names) > 0 else range(0,n_columns)\n",
    "            df = pd.DataFrame(columns = columns,\n",
    "                              index= range(0,n_rows))\n",
    "            row_marker = 0\n",
    "            for row in table.find_all('tr'):\n",
    "                column_marker = 0\n",
    "                columns = row.find_all('td')\n",
    "                for column in columns:\n",
    "                    df.iat[row_marker,column_marker] = column.get_text().strip()\n",
    "                    column_marker += 1\n",
    "                if len(columns) > 0:\n",
    "                    row_marker += 1\n",
    "                    \n",
    "            # Convert to float if possible\n",
    "            for col in df:\n",
    "                try:\n",
    "                    df[col] = df[col].astype(float)\n",
    "                except ValueError:\n",
    "                    pass\n",
    "            \n",
    "            return df"
   ]
  },
  {
   "cell_type": "markdown",
   "id": "63c5ae93",
   "metadata": {},
   "source": [
    "hard-code the location of the ChIPQC results within the Github repo"
   ]
  },
  {
   "cell_type": "code",
   "execution_count": 3,
   "id": "a9a2c3eb",
   "metadata": {},
   "outputs": [],
   "source": [
    "indir=\"../data/ChIPQCreport\""
   ]
  },
  {
   "cell_type": "markdown",
   "id": "b978de6c",
   "metadata": {},
   "source": [
    "# Summary Tables"
   ]
  },
  {
   "cell_type": "markdown",
   "id": "e1fe0696",
   "metadata": {},
   "source": [
    "## Input-Seq (20 Random Inputs)"
   ]
  },
  {
   "cell_type": "code",
   "execution_count": 4,
   "id": "a131ad14",
   "metadata": {},
   "outputs": [],
   "source": [
    "input_names=[\"noMask\",\"GS\",\"BL\"]\n",
    "input_dir=[\"20inputs_noMask\",\n",
    "              \"20inputs_gsMask\",\n",
    "              \"20inputs_blMask\"]\n",
    "input_summary_df=None\n",
    "for i in range(0,len(input_names)):\n",
    "    iname = input_names[i]\n",
    "    ichipqc = (\"%s/%s/ChIPQC.html\" % (indir,input_dir[i]))\n",
    "    hp = HTMLTableParser()\n",
    "    with open(ichipqc, 'r') as f:\n",
    "\n",
    "        contents = f.read()\n",
    "\n",
    "        soup = BeautifulSoup(contents, \"html.parser\")\n",
    "\n",
    "        i_summary_table = soup.find_all('table')[0]\n",
    "        i_summary_df = hp.parse_html_table(i_summary_table)\n",
    "        i_summary_df[\"mask\"]=iname\n",
    "        if i == 0:\n",
    "            input_summary_df = i_summary_df.copy()\n",
    "        else:\n",
    "            input_summary_df = input_summary_df.append(\n",
    "                i_summary_df, ignore_index=True)"
   ]
  },
  {
   "cell_type": "markdown",
   "id": "7f695826",
   "metadata": {},
   "source": [
    "### SSD boxplot"
   ]
  },
  {
   "cell_type": "code",
   "execution_count": 5,
   "id": "e6f8e058",
   "metadata": {},
   "outputs": [
    {
     "data": {
      "image/png": "[encoded data removed]",
      "text/plain": [
       "<Figure size 432x288 with 1 Axes>"
      ]
     },
     "metadata": {
      "needs_background": "light"
     },
     "output_type": "display_data"
    }
   ],
   "source": [
    "# generate boxplot\n",
    "ax = sns.boxplot(x=\"mask\", y=\"SSD\", \n",
    "                 palette=sns.color_palette([\"blue\",\"green\",\"black\"]),\n",
    "                 data=input_summary_df)\n",
    "# use swarmplot() to show the data points on top of the box plots\n",
    "ax = sns.swarmplot(x=\"mask\", y=\"SSD\", data=input_summary_df, color=\".25\")\n",
    "# label each integer on the y-axis\n",
    "ax.yaxis.set_major_locator(ticker.MultipleLocator(1))\n",
    "ax.yaxis.set_major_formatter(ticker.ScalarFormatter())\n",
    "# set title and x label\n",
    "ax.set_title('Signal inequality in Input-seq',fontsize=22)\n",
    "ax.set_xlabel('Artificial Signal Mask',fontsize=20)\n",
    "ax.set_ylabel('SSD',fontsize=20)\n",
    "ax.tick_params(labelsize=16)"
   ]
  },
  {
   "cell_type": "markdown",
   "id": "52913bb4",
   "metadata": {},
   "source": [
    "## ChIP-Seq (LFY, FD, and TFL1)"
   ]
  },
  {
   "cell_type": "code",
   "execution_count": 7,
   "id": "1a4a0b2a",
   "metadata": {},
   "outputs": [],
   "source": [
    "mask_list=[\"noMask\",\"gsMask\",\"blMask\"]\n",
    "mask_dic={\"noMask\":\"noMask\", \n",
    "         \"gsMask\":\"GS\",\n",
    "         \"blMask\":\"BL\"}\n",
    "dup_list=[\"wiDups\",\"noDups\"]\n",
    "macs2_controls_list=[\"noControl\",\"lfyWInputControl\",\n",
    "              \"tfl1WInputControl\",\n",
    "               \"respectiveMockControls\"]\n",
    "\n",
    "all_chip_summary_df=None\n",
    "i=0\n",
    "for mask in mask_list:\n",
    "    for dup in dup_list:\n",
    "        for mcontrol in macs2_controls_list:\n",
    "            if (mcontrol == \"lfyWInputControl\" or\n",
    "                mcontrol == \"tfl1WInputControl\" or\n",
    "                dup == \"wiDups\"):\n",
    "                subdir=(\"chip_%s_%s_%s_extFragSize_qval10\" % \n",
    "                        (mask, dup, mcontrol))\n",
    "                chipqc_html = (\"%s/%s/ChIPQC.html\" % (indir,subdir))\n",
    "                hp = HTMLTableParser()\n",
    "                with open(chipqc_html, 'r') as f:\n",
    "                    contents = f.read()\n",
    "                    soup = BeautifulSoup(contents, \"html.parser\")\n",
    "\n",
    "                    chip_summary_table = soup.find_all('table')[0]\n",
    "                    chip_summary_df = hp.parse_html_table(chip_summary_table)\n",
    "                    chip_summary_df[\"mask\"]=mask_dic[mask]\n",
    "                    chip_summary_df[\"dup\"]=dup\n",
    "                    chip_summary_df[\"macs2_control\"]=mcontrol\n",
    "                    if i == 0:\n",
    "                        all_chip_summary_df = chip_summary_df.copy()\n",
    "                    else:\n",
    "                        all_chip_summary_df = all_chip_summary_df.append(\n",
    "                            chip_summary_df, ignore_index=True)\n",
    "                i+=1"
   ]
  },
  {
   "cell_type": "code",
   "execution_count": 10,
   "id": "c4939b83",
   "metadata": {},
   "outputs": [],
   "source": [
    "TFL1_A_W_chipSummary_df = (\n",
    "    all_chip_summary_df.loc[((all_chip_summary_df[\"ID\"].str.contains(\"TFL1_A_W\")) &\n",
    "                         (all_chip_summary_df[\"macs2_control\"]==\"tfl1WInputControl\")),:])"
   ]
  },
  {
   "cell_type": "code",
   "execution_count": 11,
   "id": "06ecfb6a",
   "metadata": {},
   "outputs": [
    {
     "data": {
      "text/plain": [
       "<seaborn.axisgrid.FacetGrid at 0x7fa65359d370>"
      ]
     },
     "execution_count": 11,
     "metadata": {},
     "output_type": "execute_result"
    },
    {
     "data": {
      "image/png": "[encoded data removed]",
      "text/plain": [
       "<Figure size 530.27x216 with 2 Axes>"
      ]
     },
     "metadata": {},
     "output_type": "display_data"
    }
   ],
   "source": [
    "sns.set(font_scale=1.2)\n",
    "g = sns.FacetGrid(TFL1_A_W_chipSummary_df, col=\"ID\")\n",
    "g.map_dataframe(sns.barplot, x=\"dup\", y=\"RelCC\", \n",
    "                hue=\"mask\",\n",
    "                palette=sns.color_palette([\"blue\",\"green\",\"black\"]))\n",
    "g.set_axis_labels(\"\", \"Relative Strand Coefficient\")\n",
    "g.set_titles(col_template=\"{col_name}\")\n",
    "g.add_legend()"
   ]
  },
  {
   "cell_type": "code",
   "execution_count": null,
   "id": "c1b41072",
   "metadata": {},
   "outputs": [],
   "source": []
  }
 ],
 "metadata": {
  "kernelspec": {
   "display_name": "Python 3",
   "language": "python",
   "name": "python3"
  },
  "language_info": {
   "codemirror_mode": {
    "name": "ipython",
    "version": 3
   },
   "file_extension": ".py",
   "mimetype": "text/x-python",
   "name": "python",
   "nbconvert_exporter": "python",
   "pygments_lexer": "ipython3",
   "version": "3.8.5"
  }
 },
 "nbformat": 4,
 "nbformat_minor": 5
}
