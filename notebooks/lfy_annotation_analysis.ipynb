{
 "cells": [
  {
   "cell_type": "markdown",
   "id": "a7539d6a",
   "metadata": {},
   "source": [
    "# Set Up Workspace\n",
    "Import the libaries need to handle data tables"
   ]
  },
  {
   "cell_type": "code",
   "execution_count": 23,
   "id": "48bcd8df",
   "metadata": {},
   "outputs": [],
   "source": [
    "import pandas as pd # used to handle dataframes/tables\n",
    "# used to make plots\n",
    "import matplotlib.pyplot as plt\n",
    "import matplotlib.ticker as ticker\n",
    "import numpy as np\n",
    "from plotnine import *"
   ]
  },
  {
   "cell_type": "markdown",
   "id": "abe4583c",
   "metadata": {},
   "source": [
    "set variables to necessary directories and file names"
   ]
  },
  {
   "cell_type": "code",
   "execution_count": 24,
   "id": "fbef23eb",
   "metadata": {},
   "outputs": [],
   "source": [
    "ann_dir=\"../data/annotations/LFY_Jin_2021/BySummit\"\n",
    "genewise_f=\"LFY_DexvsMock_genewise_ann.csv\"\n",
    "peakwise_f=\"LFY_DexvsMock_peakwise_ann.csv\"\n",
    "nomask_dir=\"noMask_qval10_wiDups\"\n",
    "gsmask_dir=\"gsMask_qval10_wiDups\"\n",
    "blmask_dir=\"blMask_qval10_wiDups\""
   ]
  },
  {
   "cell_type": "markdown",
   "id": "7f9e1b0a",
   "metadata": {},
   "source": [
    "# Compare annotation of  peaks masked by GS vs peaks not masked by GS\n",
    "\n",
    "First import peakwise files from before and after GS mask"
   ]
  },
  {
   "cell_type": "code",
   "execution_count": 25,
   "id": "903abd39",
   "metadata": {},
   "outputs": [],
   "source": [
    "nomask_peakwise_df = pd.read_csv(ann_dir+\"/\"+nomask_dir + \"/\" + peakwise_f)\n",
    "gsmask_peakwise_df = pd.read_csv(ann_dir+\"/\"+gsmask_dir + \"/\" + peakwise_f)"
   ]
  },
  {
   "cell_type": "markdown",
   "id": "5fdf445f",
   "metadata": {},
   "source": [
    "In the table containing all peaks before masking add a column who values equal:\n",
    "* False if the peak is not masked by Greenscreen\n",
    "* True if the peak is masked by Greenscreen"
   ]
  },
  {
   "cell_type": "code",
   "execution_count": 26,
   "id": "e9da3d36",
   "metadata": {},
   "outputs": [],
   "source": [
    "nomask_peakwise_df[\"gs_masked_out\"] = (\n",
    "    nomask_peakwise_df.apply(\n",
    "        lambda x: not x[\"name\"] in gsmask_peakwise_df[\"name\"].values, \n",
    "        axis=1))"
   ]
  },
  {
   "cell_type": "code",
   "execution_count": 27,
   "id": "d28fb68b",
   "metadata": {},
   "outputs": [
    {
     "data": {
      "text/plain": [
       "Index(['chr', 'start', 'stop', 'name', 'signal', 'strand', 'roundOfAnnotation',\n",
       "       'numGenes', 'gene_id', 'gene_overlap', 'distance_from_gene',\n",
       "       'summit_ann', 'qValue', 'summit', 'TransposableElement:name',\n",
       "       'TransposableElement:location', 'TransposableElementGene:name',\n",
       "       'TransposableElementGene:location', 'TransposonFragment:name',\n",
       "       'TransposonFragment:location', 'Pseudogene:name', 'Pseudogene:location',\n",
       "       'geneMeta:Name', 'geneMeta:Alias', 'geneMeta:Note',\n",
       "       'geneMeta:locus_type', 'geneMeta:description',\n",
       "       'RNA_DE_seed:log2FoldChange', 'RNA_DE_seed:padj',\n",
       "       'RNA2_DE_callus_t1hr:log2FoldChange', 'RNA2_DE_callus_t1hr:padj',\n",
       "       'RNA2_DE_callus_t6hr:log2FoldChange', 'RNA2_DE_callus_t6hr:padj',\n",
       "       'RNA2_DE_callus_t24hr:log2FoldChange', 'RNA2_DE_callus_t24hr:padj',\n",
       "       'gs_masked_out'],\n",
       "      dtype='object')"
      ]
     },
     "execution_count": 27,
     "metadata": {},
     "output_type": "execute_result"
    }
   ],
   "source": [
    "nomask_peakwise_df.columns"
   ]
  },
  {
   "cell_type": "markdown",
   "id": "36bb1adc",
   "metadata": {},
   "source": [
    "Check the number of peaks that were masked"
   ]
  },
  {
   "cell_type": "code",
   "execution_count": 28,
   "id": "342f6673",
   "metadata": {},
   "outputs": [
    {
     "data": {
      "text/plain": [
       "False    1680\n",
       "True       65\n",
       "Name: gs_masked_out, dtype: int64"
      ]
     },
     "execution_count": 28,
     "metadata": {},
     "output_type": "execute_result"
    }
   ],
   "source": [
    "nomask_peakwise_df[\"gs_masked_out\"].value_counts()"
   ]
  },
  {
   "cell_type": "markdown",
   "id": "6b62900e",
   "metadata": {},
   "source": [
    "Currently `round of Annotation` is a column with values\n",
    "* 1 which labels a peak as annotated in round1\n",
    "* 2 which labels a peak as annotated in round2\n",
    "* NaN which labels a peak as unannotated\n",
    "For readability, I want to change these values to the following strings respectively\n",
    "* round1\n",
    "* round2\n",
    "* unannotated"
   ]
  },
  {
   "cell_type": "code",
   "execution_count": 29,
   "id": "46e420af",
   "metadata": {},
   "outputs": [],
   "source": [
    "# change round1 and round2 values\n",
    "roa_strings_dict={1: \"round1\", 2: \"round2\"}\n",
    "nomask_peakwise_df = (\n",
    "    nomask_peakwise_df\n",
    "    .replace({\"roundOfAnnotation\": roa_strings_dict}))\n",
    "# set the peaks that were not annotated to genes to \"unannotated\"\n",
    "nomask_peakwise_df[\"roundOfAnnotation\"] = (\n",
    "    nomask_peakwise_df[\"roundOfAnnotation\"].fillna(\"unannotated\"))"
   ]
  },
  {
   "cell_type": "markdown",
   "id": "7675b6cb",
   "metadata": {},
   "source": [
    "Create a counts table of the number of peaks that were: \n",
    "* not annotated\n",
    "* annotated in round 1 annotation\n",
    "* annotated in round 2 annotation"
   ]
  },
  {
   "cell_type": "markdown",
   "id": "30f8894c",
   "metadata": {},
   "source": [
    "and whether they were masked out by greenscreen or not."
   ]
  },
  {
   "cell_type": "code",
   "execution_count": 30,
   "id": "35f4a9c0",
   "metadata": {},
   "outputs": [
    {
     "data": {
      "text/html": [
       "<div>\n",
       "<style scoped>\n",
       "    .dataframe tbody tr th:only-of-type {\n",
       "        vertical-align: middle;\n",
       "    }\n",
       "\n",
       "    .dataframe tbody tr th {\n",
       "        vertical-align: top;\n",
       "    }\n",
       "\n",
       "    .dataframe thead th {\n",
       "        text-align: right;\n",
       "    }\n",
       "</style>\n",
       "<table border=\"1\" class=\"dataframe\">\n",
       "  <thead>\n",
       "    <tr style=\"text-align: right;\">\n",
       "      <th>roundOfAnnotation</th>\n",
       "      <th>round1</th>\n",
       "      <th>round2</th>\n",
       "      <th>unannotated</th>\n",
       "    </tr>\n",
       "    <tr>\n",
       "      <th>gs_masked_out</th>\n",
       "      <th></th>\n",
       "      <th></th>\n",
       "      <th></th>\n",
       "    </tr>\n",
       "  </thead>\n",
       "  <tbody>\n",
       "    <tr>\n",
       "      <th>False</th>\n",
       "      <td>1207.0</td>\n",
       "      <td>257.0</td>\n",
       "      <td>216.0</td>\n",
       "    </tr>\n",
       "    <tr>\n",
       "      <th>True</th>\n",
       "      <td>8.0</td>\n",
       "      <td>0.0</td>\n",
       "      <td>57.0</td>\n",
       "    </tr>\n",
       "  </tbody>\n",
       "</table>\n",
       "</div>"
      ],
      "text/plain": [
       "roundOfAnnotation  round1  round2  unannotated\n",
       "gs_masked_out                                 \n",
       "False              1207.0   257.0        216.0\n",
       "True                  8.0     0.0         57.0"
      ]
     },
     "execution_count": 30,
     "metadata": {},
     "output_type": "execute_result"
    }
   ],
   "source": [
    "# create a dataframe of necessary info\n",
    "numPeaksAnnGivMask_df = (pd.DataFrame(nomask_peakwise_df.groupby(\n",
    "    'roundOfAnnotation')['gs_masked_out']\n",
    "    .value_counts())\n",
    "    .rename(columns={'gs_masked_out':'number of peaks'})\n",
    "    .reset_index())\n",
    "# set `gs_masked_out` to str type\n",
    "numPeaksAnnGivMask_df['gs_masked_out'] = (\n",
    "    numPeaksAnnGivMask_df['gs_masked_out'].astype(str))\n",
    "# pivot the table so that the column names\n",
    "# represent the annotation labels and\n",
    "# the index labels whether the peaks were\n",
    "# masked out by the greenscreen (True) \n",
    "# or not (False)\n",
    "numPeaksAnnGivMask_pivot_df = (\n",
    "    numPeaksAnnGivMask_df.pivot(\n",
    "    index=\"gs_masked_out\",\n",
    "    columns=\"roundOfAnnotation\",\n",
    "    values=\"number of peaks\"))\n",
    "numPeaksAnnGivMask_pivot_df = numPeaksAnnGivMask_pivot_df.fillna(0)\n",
    "numPeaksAnnGivMask_pivot_df"
   ]
  },
  {
   "cell_type": "markdown",
   "id": "fc3fd518",
   "metadata": {},
   "source": [
    "Since so few peaks are masked we calculate the percent for each row in the dataframe."
   ]
  },
  {
   "cell_type": "code",
   "execution_count": 31,
   "id": "969bc3bc",
   "metadata": {},
   "outputs": [
    {
     "data": {
      "text/html": [
       "<div>\n",
       "<style scoped>\n",
       "    .dataframe tbody tr th:only-of-type {\n",
       "        vertical-align: middle;\n",
       "    }\n",
       "\n",
       "    .dataframe tbody tr th {\n",
       "        vertical-align: top;\n",
       "    }\n",
       "\n",
       "    .dataframe thead th {\n",
       "        text-align: right;\n",
       "    }\n",
       "</style>\n",
       "<table border=\"1\" class=\"dataframe\">\n",
       "  <thead>\n",
       "    <tr style=\"text-align: right;\">\n",
       "      <th>roundOfAnnotation</th>\n",
       "      <th>round1</th>\n",
       "      <th>round2</th>\n",
       "      <th>unannotated</th>\n",
       "    </tr>\n",
       "    <tr>\n",
       "      <th>gs_masked_out</th>\n",
       "      <th></th>\n",
       "      <th></th>\n",
       "      <th></th>\n",
       "    </tr>\n",
       "  </thead>\n",
       "  <tbody>\n",
       "    <tr>\n",
       "      <th>False</th>\n",
       "      <td>0.718452</td>\n",
       "      <td>0.152976</td>\n",
       "      <td>0.128571</td>\n",
       "    </tr>\n",
       "    <tr>\n",
       "      <th>True</th>\n",
       "      <td>0.123077</td>\n",
       "      <td>0.000000</td>\n",
       "      <td>0.876923</td>\n",
       "    </tr>\n",
       "  </tbody>\n",
       "</table>\n",
       "</div>"
      ],
      "text/plain": [
       "roundOfAnnotation    round1    round2  unannotated\n",
       "gs_masked_out                                     \n",
       "False              0.718452  0.152976     0.128571\n",
       "True               0.123077  0.000000     0.876923"
      ]
     },
     "execution_count": 31,
     "metadata": {},
     "output_type": "execute_result"
    }
   ],
   "source": [
    "perPeaksAnnGivMask_pivot_df = numPeaksAnnGivMask_pivot_df.apply(lambda x: x/x.sum(),axis=1)\n",
    "perPeaksAnnGivMask_pivot_df"
   ]
  },
  {
   "cell_type": "markdown",
   "id": "533973df",
   "metadata": {},
   "source": [
    "Before plotting this table to a stacked bar graph, we prepare the dataframe."
   ]
  },
  {
   "cell_type": "code",
   "execution_count": 32,
   "id": "b0e7355c",
   "metadata": {},
   "outputs": [
    {
     "data": {
      "text/html": [
       "<div>\n",
       "<style scoped>\n",
       "    .dataframe tbody tr th:only-of-type {\n",
       "        vertical-align: middle;\n",
       "    }\n",
       "\n",
       "    .dataframe tbody tr th {\n",
       "        vertical-align: top;\n",
       "    }\n",
       "\n",
       "    .dataframe thead th {\n",
       "        text-align: right;\n",
       "    }\n",
       "</style>\n",
       "<table border=\"1\" class=\"dataframe\">\n",
       "  <thead>\n",
       "    <tr style=\"text-align: right;\">\n",
       "      <th></th>\n",
       "      <th>gs_masked_out</th>\n",
       "      <th>round1</th>\n",
       "      <th>round2</th>\n",
       "      <th>unannotated</th>\n",
       "    </tr>\n",
       "  </thead>\n",
       "  <tbody>\n",
       "    <tr>\n",
       "      <th>0</th>\n",
       "      <td>False</td>\n",
       "      <td>0.718452</td>\n",
       "      <td>0.152976</td>\n",
       "      <td>0.128571</td>\n",
       "    </tr>\n",
       "    <tr>\n",
       "      <th>1</th>\n",
       "      <td>True</td>\n",
       "      <td>0.123077</td>\n",
       "      <td>0.000000</td>\n",
       "      <td>0.876923</td>\n",
       "    </tr>\n",
       "  </tbody>\n",
       "</table>\n",
       "</div>"
      ],
      "text/plain": [
       "  gs_masked_out    round1    round2  unannotated\n",
       "0         False  0.718452  0.152976     0.128571\n",
       "1          True  0.123077  0.000000     0.876923"
      ]
     },
     "execution_count": 32,
     "metadata": {},
     "output_type": "execute_result"
    }
   ],
   "source": [
    "perPeaksAnnGivMask_pivot_V2_df = perPeaksAnnGivMask_pivot_df.loc[['True','False'],:]\n",
    "perPeaksAnnGivMask_sorted_pivot_df = (\n",
    "    perPeaksAnnGivMask_pivot_df\n",
    "    .reset_index()\n",
    "    .rename_axis(None,axis=1))\n",
    "perPeaksAnnGivMask_sorted_pivot_df\n",
    "perPeaksAnnGivMask_sorted_pivot_V2_df = (\n",
    "    perPeaksAnnGivMask_pivot_V2_df\n",
    "    .reset_index()\n",
    "    .rename_axis(None,axis=1))\n",
    "perPeaksAnnGivMask_sorted_pivot_df"
   ]
  },
  {
   "cell_type": "markdown",
   "id": "620a08c8",
   "metadata": {},
   "source": [
    "Use matplotlib libary to plot the stacked bargraph to display the data"
   ]
  },
  {
   "cell_type": "code",
   "execution_count": 33,
   "id": "cf8e923b",
   "metadata": {},
   "outputs": [
    {
     "data": {
      "text/plain": [
       "Text(0.5, 1.0, 'Greenscreen Masked Peaks Annotation')"
      ]
     },
     "execution_count": 33,
     "metadata": {},
     "output_type": "execute_result"
    },
    {
     "data": {
      "text/plain": [
       "<Figure size 1008x1008 with 0 Axes>"
      ]
     },
     "metadata": {},
     "output_type": "display_data"
    },
    {
     "data": {
      "image/png": "[encoded data removed]",
      "text/plain": [
       "<Figure size 432x288 with 1 Axes>"
      ]
     },
     "metadata": {
      "needs_background": "light"
     },
     "output_type": "display_data"
    }
   ],
   "source": [
    "# set the figure size\n",
    "plt.figure(figsize=(14, 14))\n",
    "\n",
    "color_dict= (\n",
    "    {\"round1\":'o',\n",
    "    \"round2\":'b',\n",
    "    \"unannotated\":'k'})\n",
    "\n",
    "# from raw value to percentage\n",
    "ax = perPeaksAnnGivMask_sorted_pivot_V2_df.plot(\n",
    "    color=['darkgoldenrod','mediumvioletred','k'],\n",
    "    x=\"gs_masked_out\",\n",
    "    kind='barh',\n",
    "    stacked=True,\n",
    "    mark_right=True)\n",
    "\n",
    "ax.set_xlabel(\"number of peaks\")\n",
    "ax.set_ylabel(\"Peaks Masked Out\")\n",
    "plt.title(\"Greenscreen Masked Peaks Annotation\")"
   ]
  },
  {
   "cell_type": "code",
   "execution_count": 34,
   "id": "19fc076d",
   "metadata": {},
   "outputs": [
    {
     "data": {
      "text/html": [
       "<div>\n",
       "<style scoped>\n",
       "    .dataframe tbody tr th:only-of-type {\n",
       "        vertical-align: middle;\n",
       "    }\n",
       "\n",
       "    .dataframe tbody tr th {\n",
       "        vertical-align: top;\n",
       "    }\n",
       "\n",
       "    .dataframe thead th {\n",
       "        text-align: right;\n",
       "    }\n",
       "</style>\n",
       "<table border=\"1\" class=\"dataframe\">\n",
       "  <thead>\n",
       "    <tr style=\"text-align: right;\">\n",
       "      <th></th>\n",
       "      <th>gs_masked_out</th>\n",
       "      <th>round1</th>\n",
       "      <th>round2</th>\n",
       "      <th>unannotated</th>\n",
       "    </tr>\n",
       "  </thead>\n",
       "  <tbody>\n",
       "    <tr>\n",
       "      <th>0</th>\n",
       "      <td>False</td>\n",
       "      <td>0.718452</td>\n",
       "      <td>0.152976</td>\n",
       "      <td>0.128571</td>\n",
       "    </tr>\n",
       "    <tr>\n",
       "      <th>1</th>\n",
       "      <td>True</td>\n",
       "      <td>0.123077</td>\n",
       "      <td>0.000000</td>\n",
       "      <td>0.876923</td>\n",
       "    </tr>\n",
       "  </tbody>\n",
       "</table>\n",
       "</div>"
      ],
      "text/plain": [
       "  gs_masked_out    round1    round2  unannotated\n",
       "0         False  0.718452  0.152976     0.128571\n",
       "1          True  0.123077  0.000000     0.876923"
      ]
     },
     "execution_count": 34,
     "metadata": {},
     "output_type": "execute_result"
    }
   ],
   "source": [
    "perPeaksAnnGivMask_sorted_pivot_df"
   ]
  },
  {
   "cell_type": "markdown",
   "id": "420f13d0",
   "metadata": {},
   "source": [
    "# Include Differential Expressed Gene Information to Barchart\n",
    "First organize the columns which contain the p-values of the genes annotated to the peaks. Note that if multiple genes are annotated to a single peak then we only care about the gene that is differentially expressed with the most significant p-value."
   ]
  },
  {
   "cell_type": "code",
   "execution_count": 35,
   "id": "4f2290e6",
   "metadata": {},
   "outputs": [],
   "source": [
    "def return_min_pval(foo):\n",
    "    #print(foo)\n",
    "    foo_arr=str(foo).split(\";\")\n",
    "    min_val=1\n",
    "    for val in foo_arr:\n",
    "        if val != \"nan\":\n",
    "            if float(val)<min_val:\n",
    "                min_val = float(val)\n",
    "    return(min_val)"
   ]
  },
  {
   "cell_type": "code",
   "execution_count": 36,
   "id": "e2194455",
   "metadata": {},
   "outputs": [],
   "source": [
    "de_padj_cols=[\"RNA_DE_seed:padj\", \n",
    "              \"RNA2_DE_callus_t1hr:padj\", \n",
    "              \"RNA2_DE_callus_t6hr:padj\",\n",
    "              \"RNA2_DE_callus_t24hr:padj\"]\n",
    "\n",
    "nomask_peakwise_df.loc[:,de_padj_cols] = (\n",
    "    nomask_peakwise_df.loc[:,de_padj_cols]\n",
    "    .astype(str)\n",
    "    .applymap(lambda x: return_min_pval(x)))"
   ]
  },
  {
   "cell_type": "markdown",
   "id": "94caacc4",
   "metadata": {},
   "source": [
    "create a new column named \"DE\" in `nomask_peakwise_df` that contains information about whether a gene is annotated to a differentially expressed gene or not."
   ]
  },
  {
   "cell_type": "code",
   "execution_count": 37,
   "id": "a99a79c2",
   "metadata": {},
   "outputs": [],
   "source": [
    "nomask_peakwise_df[\"DE\"]=(\n",
    "np.where((nomask_peakwise_df[\"RNA_DE_seed:padj\"]<=0.05) |\n",
    "        (nomask_peakwise_df[\"RNA2_DE_callus_t1hr:padj\"]<=0.01) |\n",
    "        (nomask_peakwise_df[\"RNA2_DE_callus_t6hr:padj\"]<=0.01) |\n",
    "        (nomask_peakwise_df[\"RNA2_DE_callus_t24hr:padj\"]<=0.01), \n",
    "         \"True\", \"False\"))"
   ]
  },
  {
   "cell_type": "markdown",
   "id": "eb05f295",
   "metadata": {},
   "source": [
    "Create a counts table of the number of peaks that were: \n",
    "* not annotated\n",
    "* annotated to genes in round 1 annotation and the genes were DE\n",
    "* annotated to genes in round 1 annotation and the genes are not DE\n",
    "* annotated to genes in round 2 annotation and therefore DE"
   ]
  },
  {
   "cell_type": "markdown",
   "id": "69ee2027",
   "metadata": {},
   "source": [
    "and whether they were masked out by greenscreen or not."
   ]
  },
  {
   "cell_type": "code",
   "execution_count": 38,
   "id": "d18190e8",
   "metadata": {},
   "outputs": [
    {
     "data": {
      "text/html": [
       "<div>\n",
       "<style scoped>\n",
       "    .dataframe tbody tr th:only-of-type {\n",
       "        vertical-align: middle;\n",
       "    }\n",
       "\n",
       "    .dataframe tbody tr th {\n",
       "        vertical-align: top;\n",
       "    }\n",
       "\n",
       "    .dataframe thead th {\n",
       "        text-align: right;\n",
       "    }\n",
       "</style>\n",
       "<table border=\"1\" class=\"dataframe\">\n",
       "  <thead>\n",
       "    <tr style=\"text-align: right;\">\n",
       "      <th></th>\n",
       "      <th>gs_masked_out</th>\n",
       "      <th>DE</th>\n",
       "      <th>roundOfAnnotation</th>\n",
       "      <th>counts</th>\n",
       "    </tr>\n",
       "  </thead>\n",
       "  <tbody>\n",
       "    <tr>\n",
       "      <th>0</th>\n",
       "      <td>False</td>\n",
       "      <td>False</td>\n",
       "      <td>round1</td>\n",
       "      <td>620</td>\n",
       "    </tr>\n",
       "    <tr>\n",
       "      <th>1</th>\n",
       "      <td>False</td>\n",
       "      <td>False</td>\n",
       "      <td>unannotated</td>\n",
       "      <td>216</td>\n",
       "    </tr>\n",
       "    <tr>\n",
       "      <th>2</th>\n",
       "      <td>False</td>\n",
       "      <td>True</td>\n",
       "      <td>round1</td>\n",
       "      <td>587</td>\n",
       "    </tr>\n",
       "    <tr>\n",
       "      <th>3</th>\n",
       "      <td>False</td>\n",
       "      <td>True</td>\n",
       "      <td>round2</td>\n",
       "      <td>257</td>\n",
       "    </tr>\n",
       "    <tr>\n",
       "      <th>4</th>\n",
       "      <td>True</td>\n",
       "      <td>False</td>\n",
       "      <td>round1</td>\n",
       "      <td>8</td>\n",
       "    </tr>\n",
       "    <tr>\n",
       "      <th>5</th>\n",
       "      <td>True</td>\n",
       "      <td>False</td>\n",
       "      <td>unannotated</td>\n",
       "      <td>57</td>\n",
       "    </tr>\n",
       "  </tbody>\n",
       "</table>\n",
       "</div>"
      ],
      "text/plain": [
       "  gs_masked_out     DE roundOfAnnotation  counts\n",
       "0         False  False            round1     620\n",
       "1         False  False       unannotated     216\n",
       "2         False   True            round1     587\n",
       "3         False   True            round2     257\n",
       "4          True  False            round1       8\n",
       "5          True  False       unannotated      57"
      ]
     },
     "execution_count": 38,
     "metadata": {},
     "output_type": "execute_result"
    }
   ],
   "source": [
    "numDEPeaksAnnGivMask_df = (\n",
    "    nomask_peakwise_df.groupby(\n",
    "    ['gs_masked_out', 'DE','roundOfAnnotation'])\n",
    "    .size().reset_index(name='counts'))\n",
    "# set `gs_masked_out` to str type\n",
    "numDEPeaksAnnGivMask_df['gs_masked_out'] = (\n",
    "    numDEPeaksAnnGivMask_df['gs_masked_out'].astype(str))\n",
    "# set order of round of annotation\n",
    "roi_order=[\"unannotated\",\"round2\",\"round1\"]\n",
    "numDEPeaksAnnGivMask_df[\"roundOfAnnotation\"] = (\n",
    "    pd.Categorical(numDEPeaksAnnGivMask_df['roundOfAnnotation'], \n",
    "                   categories=roi_order, ordered=True))\n",
    "# set order of DE\n",
    "numDEPeaksAnnGivMask_df[\"DE\"] = (\n",
    "    pd.Categorical(numDEPeaksAnnGivMask_df['DE'], \n",
    "                   categories=[\"True\",\"False\"], ordered=True))\n",
    "numDEPeaksAnnGivMask_df"
   ]
  },
  {
   "cell_type": "markdown",
   "id": "cfcc9898",
   "metadata": {},
   "source": [
    "since a gene must be annotated to be DE"
   ]
  },
  {
   "cell_type": "code",
   "execution_count": 39,
   "id": "1513e275",
   "metadata": {},
   "outputs": [
    {
     "data": {
      "text/html": [
       "<div>\n",
       "<style scoped>\n",
       "    .dataframe tbody tr th:only-of-type {\n",
       "        vertical-align: middle;\n",
       "    }\n",
       "\n",
       "    .dataframe tbody tr th {\n",
       "        vertical-align: top;\n",
       "    }\n",
       "\n",
       "    .dataframe thead th {\n",
       "        text-align: right;\n",
       "    }\n",
       "</style>\n",
       "<table border=\"1\" class=\"dataframe\">\n",
       "  <thead>\n",
       "    <tr style=\"text-align: right;\">\n",
       "      <th></th>\n",
       "      <th>gs_masked_out</th>\n",
       "      <th>DE</th>\n",
       "      <th>roundOfAnnotation</th>\n",
       "      <th>counts</th>\n",
       "    </tr>\n",
       "  </thead>\n",
       "  <tbody>\n",
       "    <tr>\n",
       "      <th>0</th>\n",
       "      <td>False</td>\n",
       "      <td>False</td>\n",
       "      <td>round1</td>\n",
       "      <td>620</td>\n",
       "    </tr>\n",
       "    <tr>\n",
       "      <th>2</th>\n",
       "      <td>False</td>\n",
       "      <td>True</td>\n",
       "      <td>round1</td>\n",
       "      <td>587</td>\n",
       "    </tr>\n",
       "    <tr>\n",
       "      <th>3</th>\n",
       "      <td>False</td>\n",
       "      <td>True</td>\n",
       "      <td>round2</td>\n",
       "      <td>257</td>\n",
       "    </tr>\n",
       "    <tr>\n",
       "      <th>4</th>\n",
       "      <td>True</td>\n",
       "      <td>False</td>\n",
       "      <td>round1</td>\n",
       "      <td>8</td>\n",
       "    </tr>\n",
       "  </tbody>\n",
       "</table>\n",
       "</div>"
      ],
      "text/plain": [
       "  gs_masked_out     DE roundOfAnnotation  counts\n",
       "0         False  False            round1     620\n",
       "2         False   True            round1     587\n",
       "3         False   True            round2     257\n",
       "4          True  False            round1       8"
      ]
     },
     "execution_count": 39,
     "metadata": {},
     "output_type": "execute_result"
    }
   ],
   "source": [
    "numDEGenesAnn2PeaksGivMask_df = (\n",
    "    numDEPeaksAnnGivMask_df.loc[(\n",
    "    numDEPeaksAnnGivMask_df[\"roundOfAnnotation\"]!=\"unannotated\"),:])\n",
    "numDEGenesAnn2PeaksGivMask_df"
   ]
  },
  {
   "cell_type": "code",
   "execution_count": 40,
   "id": "871b79fd",
   "metadata": {},
   "outputs": [
    {
     "data": {
      "image/png": "[encoded data removed]",
      "text/plain": [
       "<Figure size 640x480 with 1 Axes>"
      ]
     },
     "metadata": {},
     "output_type": "display_data"
    },
    {
     "data": {
      "text/plain": [
       "<ggplot: (8786963502532)>"
      ]
     },
     "execution_count": 40,
     "metadata": {},
     "output_type": "execute_result"
    }
   ],
   "source": [
    "#theme_set(theme_void())\n",
    "(ggplot(numDEPeaksAnnGivMask_df,\n",
    "    aes(\"gs_masked_out\", \"counts\", fill=\"roundOfAnnotation\", colour=\"DE\"))\n",
    "    + geom_col(size=1, position= \"fill\")\n",
    "    + scale_fill_manual(\n",
    "        values=['k','mediumvioletred','darkgoldenrod'])\n",
    "    + scale_colour_manual(\n",
    "        values=['lime','white'])\n",
    "    + ylab(\"Fraction of Peaks\")\n",
    "    + xlab(\"Peaks Masked By Greenscreen\")\n",
    "    + labs(title=\"Greenscreen Masked Peaks Annotation\")\n",
    "    + coord_flip()\n",
    "    + theme_bw())\n"
   ]
  },
  {
   "cell_type": "code",
   "execution_count": 41,
   "id": "d13ef288",
   "metadata": {},
   "outputs": [
    {
     "name": "stderr",
     "output_type": "stream",
     "text": [
      "/home/sklasfeld/Desktop/Github/GreenscreenProject/env/lib/python3.8/site-packages/plotnine/guides/guides.py:197: PlotnineWarning: Cannot generate legend for the 'fill' aesthetic. Make sure you have mapped a variable to it\n"
     ]
    },
    {
     "data": {
      "image/png": "[encoded data removed]",
      "text/plain": [
       "<Figure size 640x480 with 1 Axes>"
      ]
     },
     "metadata": {},
     "output_type": "display_data"
    },
    {
     "data": {
      "text/plain": [
       "<ggplot: (8786963520250)>"
      ]
     },
     "execution_count": 41,
     "metadata": {},
     "output_type": "execute_result"
    }
   ],
   "source": [
    "\n",
    "(ggplot(numDEPeaksAnnGivMask_df,\n",
    "    aes(\"gs_masked_out\", \"counts\",\n",
    "       colour=\"DE\"))\n",
    "    + geom_col(position= \"identity\")\n",
    "    + scale_fill_manual(\n",
    "        values=['k','mediumvioletred','darkgoldenrod'])\n",
    "    + ylab(\"number of peaks\")\n",
    "    + xlab(\"Peaks Masked By Greenscreen\")\n",
    "    + labs(title=\"Greenscreen Masked Peaks Annotation\")\n",
    "    + coord_flip())"
   ]
  },
  {
   "cell_type": "code",
   "execution_count": 42,
   "id": "1d9db907",
   "metadata": {},
   "outputs": [],
   "source": [
    "# Annotate to Transposable Elements"
   ]
  },
  {
   "cell_type": "markdown",
   "id": "ffff4be7",
   "metadata": {},
   "source": [
    "Create a counts table of the number of peaks that were: \n",
    "* not annotated\n",
    "* annotated in round 1 annotation\n",
    "* annotated in round 2 annotation"
   ]
  },
  {
   "cell_type": "markdown",
   "id": "49582736",
   "metadata": {},
   "source": [
    "and whether they were masked out by greenscreen or not."
   ]
  },
  {
   "cell_type": "code",
   "execution_count": 43,
   "id": "3ec2a61a",
   "metadata": {},
   "outputs": [
    {
     "data": {
      "text/html": [
       "<div>\n",
       "<style scoped>\n",
       "    .dataframe tbody tr th:only-of-type {\n",
       "        vertical-align: middle;\n",
       "    }\n",
       "\n",
       "    .dataframe tbody tr th {\n",
       "        vertical-align: top;\n",
       "    }\n",
       "\n",
       "    .dataframe thead th {\n",
       "        text-align: right;\n",
       "    }\n",
       "</style>\n",
       "<table border=\"1\" class=\"dataframe\">\n",
       "  <thead>\n",
       "    <tr style=\"text-align: right;\">\n",
       "      <th>roundOfAnnotation</th>\n",
       "      <th>round1</th>\n",
       "      <th>round2</th>\n",
       "      <th>unannotated</th>\n",
       "    </tr>\n",
       "    <tr>\n",
       "      <th>gs_masked_out</th>\n",
       "      <th></th>\n",
       "      <th></th>\n",
       "      <th></th>\n",
       "    </tr>\n",
       "  </thead>\n",
       "  <tbody>\n",
       "    <tr>\n",
       "      <th>False</th>\n",
       "      <td>1207.0</td>\n",
       "      <td>257.0</td>\n",
       "      <td>216.0</td>\n",
       "    </tr>\n",
       "    <tr>\n",
       "      <th>True</th>\n",
       "      <td>8.0</td>\n",
       "      <td>0.0</td>\n",
       "      <td>57.0</td>\n",
       "    </tr>\n",
       "  </tbody>\n",
       "</table>\n",
       "</div>"
      ],
      "text/plain": [
       "roundOfAnnotation  round1  round2  unannotated\n",
       "gs_masked_out                                 \n",
       "False              1207.0   257.0        216.0\n",
       "True                  8.0     0.0         57.0"
      ]
     },
     "execution_count": 43,
     "metadata": {},
     "output_type": "execute_result"
    }
   ],
   "source": [
    "# create a dataframe of necessary info\n",
    "numPeaksAnnGivMask_df = (pd.DataFrame(nomask_peakwise_df.groupby(\n",
    "    'roundOfAnnotation')['gs_masked_out']\n",
    "    .value_counts())\n",
    "    .rename(columns={'gs_masked_out':'number of peaks'})\n",
    "    .reset_index())\n",
    "# set `gs_masked_out` to str type\n",
    "numPeaksAnnGivMask_df['gs_masked_out'] = (\n",
    "    numPeaksAnnGivMask_df['gs_masked_out'].astype(str))\n",
    "# pivot the table so that the column names\n",
    "# represent the annotation labels and\n",
    "# the index labels whether the peaks were\n",
    "# masked out by the greenscreen (True) \n",
    "# or not (False)\n",
    "numPeaksAnnGivMask_pivot_df = (\n",
    "    numPeaksAnnGivMask_df.pivot(\n",
    "    index=\"gs_masked_out\",\n",
    "    columns=\"roundOfAnnotation\",\n",
    "    values=\"number of peaks\"))\n",
    "numPeaksAnnGivMask_pivot_df = numPeaksAnnGivMask_pivot_df.fillna(0)\n",
    "numPeaksAnnGivMask_pivot_df"
   ]
  },
  {
   "cell_type": "markdown",
   "id": "fd01577a",
   "metadata": {},
   "source": [
    "Since so few peaks are masked we calculate the percent for each row in the dataframe."
   ]
  },
  {
   "cell_type": "code",
   "execution_count": 44,
   "id": "db23d3bc",
   "metadata": {},
   "outputs": [
    {
     "data": {
      "text/html": [
       "<div>\n",
       "<style scoped>\n",
       "    .dataframe tbody tr th:only-of-type {\n",
       "        vertical-align: middle;\n",
       "    }\n",
       "\n",
       "    .dataframe tbody tr th {\n",
       "        vertical-align: top;\n",
       "    }\n",
       "\n",
       "    .dataframe thead th {\n",
       "        text-align: right;\n",
       "    }\n",
       "</style>\n",
       "<table border=\"1\" class=\"dataframe\">\n",
       "  <thead>\n",
       "    <tr style=\"text-align: right;\">\n",
       "      <th>roundOfAnnotation</th>\n",
       "      <th>round1</th>\n",
       "      <th>round2</th>\n",
       "      <th>unannotated</th>\n",
       "    </tr>\n",
       "    <tr>\n",
       "      <th>gs_masked_out</th>\n",
       "      <th></th>\n",
       "      <th></th>\n",
       "      <th></th>\n",
       "    </tr>\n",
       "  </thead>\n",
       "  <tbody>\n",
       "    <tr>\n",
       "      <th>False</th>\n",
       "      <td>0.718452</td>\n",
       "      <td>0.152976</td>\n",
       "      <td>0.128571</td>\n",
       "    </tr>\n",
       "    <tr>\n",
       "      <th>True</th>\n",
       "      <td>0.123077</td>\n",
       "      <td>0.000000</td>\n",
       "      <td>0.876923</td>\n",
       "    </tr>\n",
       "  </tbody>\n",
       "</table>\n",
       "</div>"
      ],
      "text/plain": [
       "roundOfAnnotation    round1    round2  unannotated\n",
       "gs_masked_out                                     \n",
       "False              0.718452  0.152976     0.128571\n",
       "True               0.123077  0.000000     0.876923"
      ]
     },
     "execution_count": 44,
     "metadata": {},
     "output_type": "execute_result"
    }
   ],
   "source": [
    "perPeaksAnnGivMask_pivot_df = numPeaksAnnGivMask_pivot_df.apply(lambda x: x/x.sum(),axis=1)\n",
    "perPeaksAnnGivMask_pivot_df"
   ]
  },
  {
   "cell_type": "markdown",
   "id": "3acd2dca",
   "metadata": {},
   "source": [
    "Before plotting this table to a stacked bar graph, we prepare the dataframe."
   ]
  },
  {
   "cell_type": "code",
   "execution_count": 45,
   "id": "87544f57",
   "metadata": {},
   "outputs": [
    {
     "data": {
      "text/html": [
       "<div>\n",
       "<style scoped>\n",
       "    .dataframe tbody tr th:only-of-type {\n",
       "        vertical-align: middle;\n",
       "    }\n",
       "\n",
       "    .dataframe tbody tr th {\n",
       "        vertical-align: top;\n",
       "    }\n",
       "\n",
       "    .dataframe thead th {\n",
       "        text-align: right;\n",
       "    }\n",
       "</style>\n",
       "<table border=\"1\" class=\"dataframe\">\n",
       "  <thead>\n",
       "    <tr style=\"text-align: right;\">\n",
       "      <th></th>\n",
       "      <th>gs_masked_out</th>\n",
       "      <th>round1</th>\n",
       "      <th>round2</th>\n",
       "      <th>unannotated</th>\n",
       "    </tr>\n",
       "  </thead>\n",
       "  <tbody>\n",
       "    <tr>\n",
       "      <th>0</th>\n",
       "      <td>False</td>\n",
       "      <td>0.718452</td>\n",
       "      <td>0.152976</td>\n",
       "      <td>0.128571</td>\n",
       "    </tr>\n",
       "    <tr>\n",
       "      <th>1</th>\n",
       "      <td>True</td>\n",
       "      <td>0.123077</td>\n",
       "      <td>0.000000</td>\n",
       "      <td>0.876923</td>\n",
       "    </tr>\n",
       "  </tbody>\n",
       "</table>\n",
       "</div>"
      ],
      "text/plain": [
       "  gs_masked_out    round1    round2  unannotated\n",
       "0         False  0.718452  0.152976     0.128571\n",
       "1          True  0.123077  0.000000     0.876923"
      ]
     },
     "execution_count": 45,
     "metadata": {},
     "output_type": "execute_result"
    }
   ],
   "source": [
    "perPeaksAnnGivMask_pivot_V2_df = perPeaksAnnGivMask_pivot_df.loc[['True','False'],:]\n",
    "perPeaksAnnGivMask_sorted_pivot_df = (\n",
    "    perPeaksAnnGivMask_pivot_df\n",
    "    .reset_index()\n",
    "    .rename_axis(None,axis=1))\n",
    "perPeaksAnnGivMask_sorted_pivot_df\n",
    "perPeaksAnnGivMask_sorted_pivot_V2_df = (\n",
    "    perPeaksAnnGivMask_pivot_V2_df\n",
    "    .reset_index()\n",
    "    .rename_axis(None,axis=1))\n",
    "perPeaksAnnGivMask_sorted_pivot_df"
   ]
  },
  {
   "cell_type": "markdown",
   "id": "b5c6257d",
   "metadata": {},
   "source": [
    "Use matplotlib libary to plot the stacked bargraph to display the data"
   ]
  },
  {
   "cell_type": "code",
   "execution_count": 46,
   "id": "6a6a69aa",
   "metadata": {},
   "outputs": [
    {
     "data": {
      "text/plain": [
       "Text(0.5, 1.0, 'Greenscreen Masked Peaks Annotation')"
      ]
     },
     "execution_count": 46,
     "metadata": {},
     "output_type": "execute_result"
    },
    {
     "data": {
      "text/plain": [
       "<Figure size 1008x1008 with 0 Axes>"
      ]
     },
     "metadata": {},
     "output_type": "display_data"
    },
    {
     "data": {
      "image/png": "[encoded data removed]",
      "text/plain": [
       "<Figure size 432x288 with 1 Axes>"
      ]
     },
     "metadata": {
      "needs_background": "light"
     },
     "output_type": "display_data"
    }
   ],
   "source": [
    "# set the figure size\n",
    "plt.figure(figsize=(14, 14))\n",
    "\n",
    "color_dict= (\n",
    "    {\"round1\":'o',\n",
    "    \"round2\":'b',\n",
    "    \"unannotated\":'k'})\n",
    "\n",
    "# from raw value to percentage\n",
    "ax = perPeaksAnnGivMask_sorted_pivot_V2_df.plot(\n",
    "    color=['darkgoldenrod','mediumvioletred','k'],\n",
    "    x=\"gs_masked_out\",\n",
    "    kind='barh',\n",
    "    stacked=True,\n",
    "    mark_right=True)\n",
    "\n",
    "ax.set_xlabel(\"number of peaks\")\n",
    "ax.set_ylabel(\"Peaks Masked Out\")\n",
    "plt.title(\"Greenscreen Masked Peaks Annotation\")"
   ]
  },
  {
   "cell_type": "code",
   "execution_count": 47,
   "id": "e29490c9",
   "metadata": {},
   "outputs": [
    {
     "data": {
      "text/html": [
       "<div>\n",
       "<style scoped>\n",
       "    .dataframe tbody tr th:only-of-type {\n",
       "        vertical-align: middle;\n",
       "    }\n",
       "\n",
       "    .dataframe tbody tr th {\n",
       "        vertical-align: top;\n",
       "    }\n",
       "\n",
       "    .dataframe thead th {\n",
       "        text-align: right;\n",
       "    }\n",
       "</style>\n",
       "<table border=\"1\" class=\"dataframe\">\n",
       "  <thead>\n",
       "    <tr style=\"text-align: right;\">\n",
       "      <th></th>\n",
       "      <th>gs_masked_out</th>\n",
       "      <th>round1</th>\n",
       "      <th>round2</th>\n",
       "      <th>unannotated</th>\n",
       "    </tr>\n",
       "  </thead>\n",
       "  <tbody>\n",
       "    <tr>\n",
       "      <th>0</th>\n",
       "      <td>False</td>\n",
       "      <td>0.718452</td>\n",
       "      <td>0.152976</td>\n",
       "      <td>0.128571</td>\n",
       "    </tr>\n",
       "    <tr>\n",
       "      <th>1</th>\n",
       "      <td>True</td>\n",
       "      <td>0.123077</td>\n",
       "      <td>0.000000</td>\n",
       "      <td>0.876923</td>\n",
       "    </tr>\n",
       "  </tbody>\n",
       "</table>\n",
       "</div>"
      ],
      "text/plain": [
       "  gs_masked_out    round1    round2  unannotated\n",
       "0         False  0.718452  0.152976     0.128571\n",
       "1          True  0.123077  0.000000     0.876923"
      ]
     },
     "execution_count": 47,
     "metadata": {},
     "output_type": "execute_result"
    }
   ],
   "source": [
    "perPeaksAnnGivMask_sorted_pivot_df"
   ]
  }
 ],
 "metadata": {
  "kernelspec": {
   "display_name": "Python 3",
   "language": "python",
   "name": "python3"
  },
  "language_info": {
   "codemirror_mode": {
    "name": "ipython",
    "version": 3
   },
   "file_extension": ".py",
   "mimetype": "text/x-python",
   "name": "python",
   "nbconvert_exporter": "python",
   "pygments_lexer": "ipython3",
   "version": "3.8.10"
  }
 },
 "nbformat": 4,
 "nbformat_minor": 5
}
